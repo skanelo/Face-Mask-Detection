{
  "nbformat": 4,
  "nbformat_minor": 0,
  "metadata": {
    "colab": {
      "name": "facemask_detector.ipynb",
      "provenance": [],
      "collapsed_sections": [],
      "machine_shape": "hm",
      "authorship_tag": "ABX9TyOyqnMjo09SX5+sWpUqu61e",
      "include_colab_link": true
    },
    "kernelspec": {
      "name": "python3",
      "display_name": "Python 3"
    },
    "language_info": {
      "name": "python"
    },
    "accelerator": "GPU"
  },
  "cells": [
    {
      "cell_type": "markdown",
      "metadata": {
        "id": "view-in-github",
        "colab_type": "text"
      },
      "source": [
        "<a href=\"https://colab.research.google.com/github/skanelo/Face-Mask-Detection/blob/main/facemask_detector.ipynb\" target=\"_parent\"><img src=\"https://colab.research.google.com/assets/colab-badge.svg\" alt=\"Open In Colab\"/></a>"
      ]
    },
    {
      "cell_type": "markdown",
      "metadata": {
        "id": "1H2QsP4uvf-J"
      },
      "source": [
        "**Mount Google Drive to Google Colab notebook**"
      ]
    },
    {
      "cell_type": "code",
      "metadata": {
        "colab": {
          "base_uri": "https://localhost:8080/"
        },
        "id": "Ki-i_LmaHYA9",
        "outputId": "44a2fc88-e57a-4e6b-c5d8-53515a2d48ba"
      },
      "source": [
        "from google.colab import drive\n",
        "drive.mount('/content/gdrive')"
      ],
      "execution_count": null,
      "outputs": [
        {
          "output_type": "stream",
          "text": [
            "Mounted at /content/gdrive\n"
          ],
          "name": "stdout"
        }
      ]
    },
    {
      "cell_type": "code",
      "metadata": {
        "id": "wyLVzzBQHpPD"
      },
      "source": [
        "%cd gdrive/MyDrive/face_mask_detection"
      ],
      "execution_count": null,
      "outputs": []
    },
    {
      "cell_type": "markdown",
      "metadata": {
        "id": "ie2eBO0B9J47"
      },
      "source": [
        "**Create the folder in which our yolo annotations will be saved**"
      ]
    },
    {
      "cell_type": "code",
      "metadata": {
        "id": "tcDfbF4U8rTf"
      },
      "source": [
        "!mkdir mask_yolo_train"
      ],
      "execution_count": null,
      "outputs": []
    },
    {
      "cell_type": "markdown",
      "metadata": {
        "id": "FKMP9Y7E-XUp"
      },
      "source": [
        "Run the py script that converts **.xlm** files into **.txt** files, which are compatible for yolo.\n",
        "\n",
        "-   --input  = [path_of_folder_with_xml_files]\n",
        "-   --output = [path_of_folder_with_txt_files]"
      ]
    },
    {
      "cell_type": "code",
      "metadata": {
        "id": "jHZomHjO4HF6"
      },
      "source": [
        "!python xml_to_yolo.py --input=annotations --output=mask_yolo_train"
      ],
      "execution_count": null,
      "outputs": []
    },
    {
      "cell_type": "markdown",
      "metadata": {
        "id": "Hv0mmtmS-TvI"
      },
      "source": [
        "**Check:** Count how many items have been created (853 in our case)"
      ]
    },
    {
      "cell_type": "code",
      "metadata": {
        "id": "UtTpJO8v-RMg"
      },
      "source": [
        "!ls mask_yolo_train// -1 | wc -l"
      ],
      "execution_count": null,
      "outputs": []
    },
    {
      "cell_type": "markdown",
      "metadata": {
        "id": "1Pt27IN5BS-x"
      },
      "source": [
        "Copy all the images from **images folder** into **mask_yolo_train folder**"
      ]
    },
    {
      "cell_type": "code",
      "metadata": {
        "id": "D-xnMACCA8mu"
      },
      "source": [
        "!cp -r images/. mask_yolo_train"
      ],
      "execution_count": null,
      "outputs": []
    },
    {
      "cell_type": "markdown",
      "metadata": {
        "id": "YBrIEK5G40ET"
      },
      "source": [
        "At this point we have to split our data into **train and test** data.\n",
        "I created one more folder: **mask_yolo_test** and I saved 86 of the images in this folder. Therest 767 images are going to be used for trainining"
      ]
    },
    {
      "cell_type": "code",
      "metadata": {
        "colab": {
          "base_uri": "https://localhost:8080/"
        },
        "id": "6bwCZQbx5sFy",
        "outputId": "8adf2adc-7d0f-4f78-bf88-03e399474b02"
      },
      "source": [
        "%cd mask_yolo_train\n",
        "!ls -F | grep .png | wc -l\n",
        "!ls -F | grep .txt | wc -l\n",
        "%cd ..\n",
        "\n",
        "%cd mask_yolo_test\n",
        "!ls -F | grep .png | wc -l\n",
        "!ls -F | grep .txt | wc -l\n",
        "%cd .."
      ],
      "execution_count": null,
      "outputs": [
        {
          "output_type": "stream",
          "text": [
            "/content/gdrive/My Drive/face_mask_detection/mask_yolo_train\n",
            "767\n",
            "767\n",
            "/content/gdrive/My Drive/face_mask_detection\n",
            "/content/gdrive/My Drive/face_mask_detection/mask_yolo_test\n",
            "86\n",
            "86\n",
            "/content/gdrive/My Drive/face_mask_detection\n"
          ],
          "name": "stdout"
        }
      ]
    },
    {
      "cell_type": "markdown",
      "metadata": {
        "id": "H4LclXX-K7cE"
      },
      "source": [
        "Create **train.txt** file and **test.txt** file which contain the absolute paths of each .txt annotation file of **mask_yolo_train** folder and **mask_yolo_test** folder, respectively\n",
        "\n",
        "(These files are important for training and testing our yolo model)"
      ]
    },
    {
      "cell_type": "code",
      "metadata": {
        "id": "csKAic8IIx8Z"
      },
      "source": [
        "import os\n",
        "\n",
        "for dataset, txtname in zip(['mask_yolo_train/', 'mask_yolo_test/'], ['train.txt', 'test.txt']):\n",
        "    image_files = []\n",
        "    # Given we are already being located into /face_mask_detection folder\n",
        "    os.chdir(os.path.abspath(dataset))\n",
        "    count=0\n",
        "    for filename in os.listdir(os.getcwd()):\n",
        "      if filename.endswith(\".png\"):\n",
        "          image_files.append(os.path.abspath(os.getcwd()) + '/' + filename)\n",
        "\n",
        "    os.chdir(\"..\")\n",
        "    with open(txtname, \"w\") as outfile:\n",
        "        for image in image_files:\n",
        "            outfile.write(image)\n",
        "            outfile.write(\"\\n\")\n",
        "        outfile.close()"
      ],
      "execution_count": null,
      "outputs": []
    },
    {
      "cell_type": "code",
      "metadata": {
        "id": "Jvp1tOsp4_8H"
      },
      "source": [
        "!cp train.txt ../darknet/data\n",
        "!cp test.txt ../darknet/data"
      ],
      "execution_count": null,
      "outputs": []
    },
    {
      "cell_type": "markdown",
      "metadata": {
        "id": "BJUtsjweAHnl"
      },
      "source": [
        "Change directory, go to the parent directory (MyDrive) and there clone darknet from AlexeyAB's repo"
      ]
    },
    {
      "cell_type": "code",
      "metadata": {
        "id": "HvW4SiD-XeFd"
      },
      "source": [
        "%cd ..\n",
        "!git clone https://github.com/AlexeyAB/darknet\n",
        "%cd darknet"
      ],
      "execution_count": null,
      "outputs": []
    },
    {
      "cell_type": "markdown",
      "metadata": {
        "id": "kOO-4d1220YC"
      },
      "source": [
        "Check the **GPU**"
      ]
    },
    {
      "cell_type": "code",
      "metadata": {
        "id": "9f9MGdim2zuo"
      },
      "source": [
        "!nvidia-smi"
      ],
      "execution_count": null,
      "outputs": []
    },
    {
      "cell_type": "markdown",
      "metadata": {
        "id": "a2164z9nLVwk"
      },
      "source": [
        "Modify Makefile in order to activate GPUs configuration"
      ]
    },
    {
      "cell_type": "code",
      "metadata": {
        "colab": {
          "base_uri": "https://localhost:8080/"
        },
        "id": "XVDhfHsMTANf",
        "outputId": "8fa3b426-5ea6-4886-a124-5fda16af734e"
      },
      "source": [
        "# change makefile to have GPU, OPENCV and LIBSO enabled\n",
        "!sed -i 's/OPENCV=0/OPENCV=1/' Makefile\n",
        "!sed -i 's/GPU=0/GPU=1/' Makefile\n",
        "!sed -i 's/CUDNN=0/CUDNN=1/' Makefile\n",
        "!sed -i 's/LIBSO=0/LIBSO=1/' Makefile\n",
        "\n",
        "!/usr/local/cuda/bin/nvcc --version"
      ],
      "execution_count": null,
      "outputs": [
        {
          "output_type": "stream",
          "text": [
            "nvcc: NVIDIA (R) Cuda compiler driver\n",
            "Copyright (c) 2005-2020 NVIDIA Corporation\n",
            "Built on Wed_Jul_22_19:09:09_PDT_2020\n",
            "Cuda compilation tools, release 11.0, V11.0.221\n",
            "Build cuda_11.0_bu.TC445_37.28845127_0\n"
          ],
          "name": "stdout"
        }
      ]
    },
    {
      "cell_type": "markdown",
      "metadata": {
        "id": "mUrm5BsxLiak"
      },
      "source": [
        "Compile our source files"
      ]
    },
    {
      "cell_type": "code",
      "metadata": {
        "id": "sx9JcX6gTEv9"
      },
      "source": [
        "!make"
      ],
      "execution_count": null,
      "outputs": []
    },
    {
      "cell_type": "markdown",
      "metadata": {
        "id": "572Vqo2WLnbw"
      },
      "source": [
        "Get the weights of pretrained yolov3 model with 53 conv layers"
      ]
    },
    {
      "cell_type": "code",
      "metadata": {
        "colab": {
          "base_uri": "https://localhost:8080/"
        },
        "id": "7_UU0gI1TFIY",
        "outputId": "0a3a1f64-d3b3-49b9-f653-9d03384ea135"
      },
      "source": [
        "#!wget https://pjreddie.com/media/files/yolov3.weights\n",
        "!wget https://pjreddie.com/media/files/darknet53.conv.74"
      ],
      "execution_count": null,
      "outputs": [
        {
          "output_type": "stream",
          "text": [
            "--2021-04-08 21:13:24--  https://pjreddie.com/media/files/darknet53.conv.74\n",
            "Resolving pjreddie.com (pjreddie.com)... 128.208.4.108\n",
            "Connecting to pjreddie.com (pjreddie.com)|128.208.4.108|:443... connected.\n",
            "HTTP request sent, awaiting response... 200 OK\n",
            "Length: 162482580 (155M) [application/octet-stream]\n",
            "Saving to: ‘darknet53.conv.74’\n",
            "\n",
            "darknet53.conv.74   100%[===================>] 154.96M  8.40MB/s    in 26s     \n",
            "\n",
            "2021-04-08 21:13:51 (5.94 MB/s) - ‘darknet53.conv.74’ saved [162482580/162482580]\n",
            "\n"
          ],
          "name": "stdout"
        }
      ]
    },
    {
      "cell_type": "markdown",
      "metadata": {
        "id": "O5Ab-UrGL0D7"
      },
      "source": [
        "Change permissions"
      ]
    },
    {
      "cell_type": "code",
      "metadata": {
        "id": "t9GEL2jyQByy"
      },
      "source": [
        "!chmod +x ./darknet"
      ],
      "execution_count": null,
      "outputs": []
    },
    {
      "cell_type": "markdown",
      "metadata": {
        "id": "jbQMNqN7j8u2"
      },
      "source": [
        "- Copy *train.txt* file from **face_mask_detection/** folder to **darknet/data/** folder\n",
        "\n",
        "- Create *face_mask.names* file, which contains the categories of our detection task. ***Good*** if someone wears properly her/his mask) ***Bad*** if someone doesn't wear a mask or wears it incorrectly\n",
        "\n",
        "- Create *face_mask.data* file\n",
        "\n",
        "- Create *face_mask.cfg* file and modify it so as to meet our task's criteria. For full details: https://github.com/AlexeyAB/darknet\n",
        "\n",
        "- Finally, **darknet/data/** folder should contain: *train.txt, face_mask.data, face_mask.names*, while **darknet/cfg/** should contain *face_mask.cfg*"
      ]
    },
    {
      "cell_type": "markdown",
      "metadata": {
        "id": "eiO_kKjBL3FV"
      },
      "source": [
        "Execution command for training"
      ]
    },
    {
      "cell_type": "code",
      "metadata": {
        "id": "_rUMX2gsNs6V"
      },
      "source": [
        "!./darknet detector train data/face_mask.data cfg/face_mask.cfg backup/face_mask_last.weights -dont_show -i 0 -map -points 0"
      ],
      "execution_count": null,
      "outputs": []
    },
    {
      "cell_type": "markdown",
      "metadata": {
        "id": "Tpb6TR7i2lJh"
      },
      "source": [
        "**Check** the mAP0.5 of the best weights. **(87.16%)**"
      ]
    },
    {
      "cell_type": "code",
      "metadata": {
        "id": "26otXxyrav1S"
      },
      "source": [
        "!./darknet detector map data/face_mask.data cfg/face_mask.cfg backup/face_mask_best.weights"
      ],
      "execution_count": null,
      "outputs": []
    },
    {
      "cell_type": "markdown",
      "metadata": {
        "id": "WYAhql_-L60q"
      },
      "source": [
        "Execution command for testing"
      ]
    },
    {
      "cell_type": "code",
      "metadata": {
        "id": "AL666qvhNz5M"
      },
      "source": [
        "!./darknet detector test data/face_mask.data cfg/face_mask.cfg backup/face_mask_best.weights"
      ],
      "execution_count": null,
      "outputs": []
    },
    {
      "cell_type": "markdown",
      "metadata": {
        "id": "lGPeXLnRL-lV"
      },
      "source": [
        "Auxiliary function for displaying on Colab our prediction.jpg image"
      ]
    },
    {
      "cell_type": "code",
      "metadata": {
        "id": "2mScobSEPRMV"
      },
      "source": [
        "# define helper functions\n",
        "def imShow(path):\n",
        "  import cv2\n",
        "  import matplotlib.pyplot as plt\n",
        "  %matplotlib inline\n",
        "\n",
        "  image = cv2.imread(path)\n",
        "  height, width = image.shape[:2]\n",
        "  resized_image = cv2.resize(image,(3*width, 3*height), interpolation = cv2.INTER_CUBIC)\n",
        "\n",
        "  fig = plt.gcf()\n",
        "  fig.set_size_inches(18, 10)\n",
        "  plt.axis(\"off\")\n",
        "  plt.imshow(cv2.cvtColor(resized_image, cv2.COLOR_BGR2RGB))\n",
        "  plt.show()\n",
        "\n",
        "imShow('predictions.jpg')"
      ],
      "execution_count": null,
      "outputs": []
    },
    {
      "cell_type": "markdown",
      "metadata": {
        "id": "IHid3bWE2LRt"
      },
      "source": [
        "**Code to upload our video**"
      ]
    },
    {
      "cell_type": "code",
      "metadata": {
        "id": "pK3_theKas5r"
      },
      "source": [
        "from google.colab import files\n",
        "uploaded = files.upload()"
      ],
      "execution_count": null,
      "outputs": []
    },
    {
      "cell_type": "markdown",
      "metadata": {
        "id": "69Dr0Hrv2Q46"
      },
      "source": [
        "**Use our detector on a video**\n",
        "It saves the output in a .avi file. In order to watch it you have to download it."
      ]
    },
    {
      "cell_type": "code",
      "metadata": {
        "id": "Cs2fT-zkQ8n5"
      },
      "source": [
        "!./darknet detector demo data/face_mask.data cfg/face_mask.cfg backup/face_mask_best.weights -dont_show vid1.mp4 -i 0 -out_filename res1.avi"
      ],
      "execution_count": null,
      "outputs": []
    }
  ]
}